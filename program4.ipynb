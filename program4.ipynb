{
 "cells": [
  {
   "cell_type": "code",
   "execution_count": 1,
   "metadata": {},
   "outputs": [],
   "source": [
    "from langchain.retrievers import WikipediaRetriever\n",
    "import re\n",
    "from nltk.corpus import stopwords\n",
    "from tqdm import tqdm\n",
    "import re"
   ]
  },
  {
   "cell_type": "code",
   "execution_count": 25,
   "metadata": {},
   "outputs": [
    {
     "name": "stderr",
     "output_type": "stream",
     "text": [
      "[nltk_data] Downloading package punkt to /Users/kashif/nltk_data...\n",
      "[nltk_data]   Unzipping tokenizers/punkt.zip.\n"
     ]
    },
    {
     "data": {
      "text/plain": [
       "True"
      ]
     },
     "execution_count": 25,
     "metadata": {},
     "output_type": "execute_result"
    }
   ],
   "source": [
    "import nltk\n",
    "nltk.download('punkt')"
   ]
  },
  {
   "cell_type": "markdown",
   "metadata": {},
   "source": [
    "## Scrap N documents of two category from wikipidia (say sports and education) ,\n",
    "-  preprocess and clean all the documents"
   ]
  },
  {
   "cell_type": "code",
   "execution_count": 2,
   "metadata": {},
   "outputs": [],
   "source": [
    "retriever = WikipediaRetriever()\n",
    "\n",
    "query = [\"Politics\", \"Health\", \"Education\", \"Sports\"]"
   ]
  },
  {
   "cell_type": "code",
   "execution_count": 16,
   "metadata": {},
   "outputs": [],
   "source": [
    "def remove_special_characters(text):\n",
    "    # Use regex to remove non-alphanumeric characters\n",
    "    text = re.sub(r'[^a-zA-Z0-9\\s]', '', text)\n",
    "    text = text.lower() # lowercase\n",
    "    # text = re.sub(r'\\[[0-9]*\\]',' ',text) \n",
    "    text = re.sub(r'\\s+',' ',text)\n",
    "    \n",
    "    # Remove punctuation\n",
    "    text = re.sub(r'[^\\w\\s]','',text)\n",
    "    \n",
    "    # Remove stopwords\n",
    "    stop_words = set(stopwords.words('english'))\n",
    "    text = ' '.join([word for word in text.split() if word not in stop_words])\n",
    "\n",
    "    return text"
   ]
  },
  {
   "cell_type": "code",
   "execution_count": 36,
   "metadata": {},
   "outputs": [
    {
     "name": "stderr",
     "output_type": "stream",
     "text": [
      "100%|██████████| 4/4 [00:35<00:00,  8.83s/it]\n"
     ]
    }
   ],
   "source": [
    "docs = []\n",
    "\n",
    "for q in tqdm(query):\n",
    "    doc = retriever.get_relevant_documents(query=q)[0]\n",
    "    no_spec = remove_special_characters(doc.dict()[\"page_content\"])\n",
    "    docs.append(no_spec)"
   ]
  },
  {
   "cell_type": "code",
   "execution_count": 37,
   "metadata": {},
   "outputs": [
    {
     "data": {
      "text/plain": [
       "['politics ancient greek politik affairs cities set activities associated making decisions groups forms power relations among individuals distribution resources status branch social science studies politics government referred political science may used positively context political solution compromising nonviolent descriptively art science government also often carries negative connotation concept defined various ways different approaches fundamentally differing views whether used extensively limited way empirically normatively whether conflict cooperation essential variety methods deployed politics include promoting ones political views among people negotiation political subjects making laws exercising internal external force including warfare adversaries politics exercised wide range social levels clans tribes traditional societies modern local governments companies institutions sovereign states international level modern nation states people often form political parties represent ideas members party often agree take position many issues agree support changes law leaders election usually competition different parties political system framework defines acceptable political methods within society history political thought traced back early antiquity seminal works platos republic aristotles politics confuciuss political manuscripts chanakyas arthashastra etymology english politics roots name aristotles classic work politik introduced greek term politik affairs cities mid15th century aristotles composition would rendered early modern english polettiques sic would become politics modern english singular politic first attested english 1430 coming middle french politiqueitself taking politicus latinization greek politikos polites citizen polis city definitions harold lasswell gets david easton authoritative allocation values society vladimir lenin concentrated expression economics otto von bismarck capacity always choosing instant constantly changing situations least harmful useful bernard crick distinctive form rule whereby people act together institutionalized procedures resolve differences adrian leftwich comprises activities cooperation negotiation conflict within societies approaches several ways approaching politics conceptualized extensive limited adrian leftwich differentiated views politics based extensive limited perception accounts political extensive view sees politics present across sphere human social relations limited view restricts certain contexts example restrictive way politics may viewed primarily governance feminist perspective could argue sites viewed traditionally nonpolitical indeed viewed political well latter position encapsulated slogan personal political disputes distinction private public issues politics may also defined use power argued robert dahl moralism realism perspectives politi',\n",
       " 'health variety definitions used different purposes time health promoted encouraging healthful activities regular physical exercise adequate sleep reducing avoiding unhealthful activities situations smoking excessive stress factors affecting health due individual choices whether engage highrisk behavior others due structural causes whether society arranged way makes easier harder people get necessary healthcare services still factors beyond individual group choices genetic disorders history meaning health evolved time keeping biomedical perspective early definitions health focused theme bodys ability function health seen state normal function could disrupted time time disease example definition health state characterized anatomic physiologic psychological integrity ability perform personally valued family work community roles ability deal physical biological psychological social stress 1948 radical departure previous definitions world health organization proposed definition aimed higher linking health wellbeing terms physical mental social wellbeing merely absence disease infirmity although definition welcomed innovative also criticized vague excessively broad construed measurable long time set aside impractical ideal discussions health returning practicality biomedical modeljust shift viewing disease state thinking process shift happened definitions health played leading role fostered development health promotion movement 1980s brought new conception health state dynamic terms resiliency words resource living 1984 revised definition health defined extent individual group able realize aspirations satisfy needs change cope environment health resource everyday life objective living positive concept emphasizing social personal resources well physical capacities thus health referred ability maintain homeostasis recover adverse events mental intellectual emotional social health referred persons ability handle stress acquire skills maintain relationships form resources resiliency independent living opens many possibilities health taught strengthened learned since late 1970s federal healthy people program visible component united states approach improving population health decade new version healthy people issued featuring updated goals identifying topic areas quantifiable objectives health improvement succeeding ten years assessment point progress lack thereof progress limited many objectives leading concerns effectiveness healthy people shaping outcomes context decentralized uncoordinated us health system healthy people 2020 gives prominence health promotion preventive approaches adds substantive focus importance addressing social determinants health new expanded digital interface facilitates use dissemination rather bulky printed books produced past impact changes healthy people determined coming yearssystematic acti',\n",
       " 'education transmission knowledge skills character traits comes many forms formal education happens complex institutional framework like public schools nonformal education also structured takes place outside formal schooling system informal education unstructured learning daily experiences formal nonformal education divided levels include early childhood education primary education secondary education tertiary education classifications focus teaching method like teachercentered studentcentered education subject like science education language education physical education term education also refer mental states qualities educated people academic field studying educational phenomena precise definition education disputed disagreements aims education extent education different indoctrination fostering critical thinking disagreements affect identify measure improve forms education fundamentally education socializes children society teaching cultural values norms equips skills needed become productive members society way stimulates economic growth raises awareness local global problems organized institutions affect many aspects education example governments set education policies determine school classes happen taught must attend international organizations like unesco influential promoting primary education children many factors influence whether education successful psychological factors include motivation intelligence personality social factors like socioeconomic status ethnicity gender often linked discrimination factors include access educational technology teacher quality parent involvement main academic field investigating education called education studies examines education aims effects improve education studies many subfields like philosophy psychology sociology economics education also discusses comparative education pedagogy history education prehistory education happened informally oral communication imitation rise ancient civilizations writing invented amount knowledge grew caused shift informal formal education initially formal education mainly available elites religious groups invention printing press 15th century made books widely available increased general literacy beginning 18th 19th centuries public education became important development led worldwide process making primary education available free charge compulsory certain age today 90 primaryschoolage children worldwide attend primary school definitions term education derived latin words educare meaning bring educere meaning bring forth definition education explored theorists various fields many agree education purposeful activity aimed achieving goals like transmission knowledge skills character traits extensive debate surrounds exact nature beyond general features one approach views education process occurs events schooling teaching learning another outlook understands education process mental states dispositions educated persons result process additionally term may also refer academic field studies methods processes social institutions involved teaching learning',\n",
       " 'sport pertains form physical activity game often competitive organized aims use maintain improve physical ability skills providing enjoyment participants cases entertainment spectators sports casual organized participation improve participants physical health hundreds sports exist single contestants hundreds simultaneous participants either teams competing individuals certain sports racing many contestants may compete simultaneously consecutively one winner others contest match two sides attempting exceed sports allow tie draw single winner others provide tiebreaking methods ensure one winner number contests may arranged tournament producing champion many sports leagues make annual champion arranging games regular sports season followed cases playoffs sport generally recognised system activities based physical athleticism physical dexterity major competitions olympic games admitting sports meeting definition organisations council europe preclude activities without physical element classification sports however number competitive nonphysical activities claim recognition mind sports international olympic committee arisf recognises chess bridge bona fide sports sportaccord international sports federation association recognises five nonphysical sports bridge chess draughts checkers go xiangqi limits number mind games admitted sportssport usually governed set rules customs serve ensure fair competition allow consistent adjudication winner winning determined physical events scoring goals crossing line first also determined judges scoring elements sporting performance including objective subjective measures technical performance artistic impression records performance often kept popular sports information may widely announced reported sport news sport also major source entertainment nonparticipants spectator sport drawing large crowds sport venues reaching wider audiences broadcasting sport betting cases severely regulated cases central sport according kearney consultancy global sporting industry worth 620 billion 2013 worlds accessible practised sport running association football popular spectator sport meaning usage etymology word sport comes old french desport meaning leisure oldest definition english around 1300 anything humans find amusing entertainingother meanings include gambling events staged purpose gambling hunting games diversions including ones require exercise rogets defines noun sport activity engaged relaxation amusement synonyms including diversion recreation nomenclature singular term sport used english dialects describe overall concept eg children taking part sport sports used describe multiple activities eg football rugby popular sports england american english uses sports terms definition precise definition differentiates sport leisure activities varies sources closest international agreement definition provided global association international sports federations gaisf associa']"
      ]
     },
     "execution_count": 37,
     "metadata": {},
     "output_type": "execute_result"
    }
   ],
   "source": [
    "docs"
   ]
  },
  {
   "cell_type": "code",
   "execution_count": null,
   "metadata": {},
   "outputs": [],
   "source": [
    "from sklearn.feature_extraction.text import CountVectorizer, TfidfTransformer\n",
    "from sklearn.preprocessing import normalize\n",
    "from sklearn.feature_extraction.text import CountVectorizer, TfidfTransformer\n",
    "from sklearn.preprocessing import normalize\n",
    "\n",
    "# Extract unigram features \n",
    "vectorizer = CountVectorizer()\n",
    "X = vectorizer.fit_transform(documents)\n",
    "# Extract unigram features \n",
    "vectorizer = CountVectorizer()\n",
    "X = vectorizer.fit_transform(documents)\n",
    "\n",
    "# Unigram count matrix\n",
    "unigram_count = X.toarray()\n",
    "\n",
    "# Bigram probability matrix\n",
    "bigram = CountVectorizer(ngram_range=(1,2), analyzer='word').fit(documents)\n",
    "X_bigram = bigram.transform(documents)\n",
    "sum_cols = X_bigram.sum(axis=0)\n",
    "bigram_prob = normalize(X_bigram, norm='l1', axis=1) \n",
    "\n",
    "# TF-IDF matrix\n",
    "tfidf = TfidfTransformer().fit_transform(X)\n",
    "\n",
    "print('Unigram count matrix shape:', unigram_count.shape)\n",
    "print('Bigram probability matrix shape:', bigram_prob.shape)\n",
    "print('TF-IDF matrix shape:', tfidf.shape)"
   ]
  }
 ],
 "metadata": {
  "kernelspec": {
   "display_name": "Python 3",
   "language": "python",
   "name": "python3"
  },
  "language_info": {
   "codemirror_mode": {
    "name": "ipython",
    "version": 3
   },
   "file_extension": ".py",
   "mimetype": "text/x-python",
   "name": "python",
   "nbconvert_exporter": "python",
   "pygments_lexer": "ipython3",
   "version": "3.8.17"
  }
 },
 "nbformat": 4,
 "nbformat_minor": 2
}
