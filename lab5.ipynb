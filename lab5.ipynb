{
 "cells": [
  {
   "cell_type": "code",
   "execution_count": 1,
   "metadata": {},
   "outputs": [
    {
     "name": "stderr",
     "output_type": "stream",
     "text": [
      "[nltk_data] Downloading package words to /Users/kashif/nltk_data...\n",
      "[nltk_data]   Unzipping corpora/words.zip.\n"
     ]
    }
   ],
   "source": [
    "# program to implement maximum matching segmentation algorithm\n",
    "import pandas as pd\n",
    "import numpy as np\n",
    "import nltk\n",
    "nltk.download('words')\n",
    "from nltk.corpus import words"
   ]
  },
  {
   "cell_type": "code",
   "execution_count": null,
   "metadata": {},
   "outputs": [],
   "source": [
    "sdjgcategorysadjkdsbvkdsbvk"
   ]
  },
  {
   "cell_type": "code",
   "execution_count": 2,
   "metadata": {},
   "outputs": [],
   "source": [
    "def maximumSegmentation(sentence):\n",
    "    dictionary = set([word.lower() for word in words.words()])\n",
    "    possible_words = []\n",
    "    len_sentence = len(sentence)\n",
    "    i = 0\n",
    "    while i < len_sentence:\n",
    "        j = i\n",
    "        maxlen = 0\n",
    "        word = \"\"\n",
    "        while j < len_sentence:\n",
    "            # find the maximun length word in the dictionary\n",
    "            if sentence[i:j+1] in dictionary and j-i+1 > maxlen:\n",
    "                maxlen = j-i+1\n",
    "                word = sentence[i:j+1]\n",
    "            j += 1\n",
    "        if word == \"\":\n",
    "            break\n",
    "        if(word in dictionary):\n",
    "            possible_words.append(word)\n",
    "            i += maxlen\n",
    "    print(possible_words)"
   ]
  },
  {
   "cell_type": "code",
   "execution_count": 3,
   "metadata": {},
   "outputs": [
    {
     "name": "stdout",
     "output_type": "stream",
     "text": [
      "india is a great country where people speak different languages but the national language is hindi. india is full of different castes, creeds, religion, and cultures but they live together. that’s the reasons india is famous for the common saying of “unity in diversity“. india is the seventh-largest country in the whole world.\n",
      "indiaisagreatcountrywherepeoplespeakdifferentlanguagesbutthenationallanguageishindiindiaisfullofdifferentcastescreedsreligionandculturesbuttheylivetogetherthatsthereasonsindiaisfamousforthecommonsayingofunityindiversityindiaistheseventhlargestcountryinthewholeworld\n",
      "['india', 'is', 'agre', 'at', 'country', 'where', 'people', 'speak', 'different', 'language', 's', 'butt', 'hen', 'ati', 'ona', 'l', 'language', 'is', 'hindi', 'india', 'is', 'full', 'of', 'different', 'caste', 'screed', 's', 'religion', 'and', 'culture', 's', 'butt', 'hey', 'live', 'together', 'thats', 'thereas', 'ons', 'india', 'is', 'famous', 'forth', 'e', 'commons', 'ayin', 'go', 'fun', 'it', 'yin', 'diversity', 'india', 'ist', 'he', 'seventh', 'large', 'st', 'country', 'in', 'thew', 'hole', 'world']\n"
     ]
    }
   ],
   "source": [
    "sentence = \"India is a great country where people speak different languages but the national language is Hindi. India is full of different castes, creeds, religion, and cultures but they live together. That’s the reasons India is famous for the common saying of “unity in diversity“. India is the seventh-largest country in the whole world.\"\n",
    "sentence = sentence.lower()\n",
    "original = sentence\n",
    "# remove all the non-alphabetic characters\n",
    "sentence = ''.join(e for e in sentence if e.isalpha())\n",
    "print(original)\n",
    "print(sentence)\n",
    "sentence = maximumSegmentation(sentence)\n",
    "sentence"
   ]
  },
  {
   "cell_type": "code",
   "execution_count": null,
   "metadata": {},
   "outputs": [],
   "source": []
  }
 ],
 "metadata": {
  "kernelspec": {
   "display_name": "nlpenv",
   "language": "python",
   "name": "python3"
  },
  "language_info": {
   "codemirror_mode": {
    "name": "ipython",
    "version": 3
   },
   "file_extension": ".py",
   "mimetype": "text/x-python",
   "name": "python",
   "nbconvert_exporter": "python",
   "pygments_lexer": "ipython3",
   "version": "3.8.17"
  }
 },
 "nbformat": 4,
 "nbformat_minor": 2
}
